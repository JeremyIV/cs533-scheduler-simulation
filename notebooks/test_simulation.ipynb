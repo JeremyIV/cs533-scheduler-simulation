{
 "cells": [
  {
   "cell_type": "code",
   "execution_count": 1,
   "metadata": {},
   "outputs": [
    {
     "name": "stdout",
     "output_type": "stream",
     "text": [
      "/home/jeremyiv/Documents/classes/CS533/final_project\n"
     ]
    }
   ],
   "source": [
    "%cd /home/jeremyiv/Documents/classes/CS533/final_project"
   ]
  },
  {
   "cell_type": "code",
   "execution_count": 2,
   "metadata": {},
   "outputs": [],
   "source": [
    "from simulation import *\n",
    "from job import *\n",
    "from basic_schedulers import *"
   ]
  },
  {
   "cell_type": "code",
   "execution_count": 5,
   "metadata": {},
   "outputs": [
    {
     "name": "stdout",
     "output_type": "stream",
     "text": [
      "pushed 0, Event(type='START_JOB', job_id=0)\n",
      "pushed 1, Event(type='START_JOB', job_id=1)\n",
      "pushed 20, Event(type='START_JOB', job_id=2)\n"
     ]
    }
   ],
   "source": [
    "from simulation import *\n",
    "from job import *\n",
    "instructions = [\n",
    "    Task(COMPUTE, 5),\n",
    "    Task(MEMORY, 10),\n",
    "    Task(COMPUTE, 5),\n",
    "    Task(DISK, 20),\n",
    "    Task(COMPUTE, 5),\n",
    "    Task(NETWORK, 30),\n",
    "]\n",
    "job_timeline = [\n",
    "    (0, Job(None,0,instructions)),\n",
    "    (1, Job(None,0,instructions)),\n",
    "    (20, Job(None,0,instructions))\n",
    "]\n",
    "sim = Simulation(job_timeline)\n",
    "random_scheduler = RoundRobinScheduler()"
   ]
  },
  {
   "cell_type": "code",
   "execution_count": 6,
   "metadata": {},
   "outputs": [
    {
     "name": "stdout",
     "output_type": "stream",
     "text": [
      "popped 0, Event(type='START_JOB', job_id=0)\n",
      "pushed 2, Event(type='SWITCHING_DONE', job_id=0)\n",
      "popped 1, Event(type='START_JOB', job_id=1)\n",
      "pushed 3, Event(type='SWITCHING_DONE', job_id=1)\n",
      "popped 3, Event(type='SWITCHING_DONE', job_id=1)\n",
      "pushed 8, Event(type='COMPUTING_DONE', job_id=1)\n",
      "popped 8, Event(type='COMPUTING_DONE', job_id=1)\n",
      "pushed 18, Event(type='MEMORY_DONE', job_id=1)\n",
      "pushed 10, Event(type='SWITCHING_DONE', job_id=0)\n",
      "popped 10, Event(type='SWITCHING_DONE', job_id=0)\n",
      "pushed 15, Event(type='COMPUTING_DONE', job_id=0)\n",
      "popped 15, Event(type='COMPUTING_DONE', job_id=0)\n",
      "pushed 28, Event(type='MEMORY_DONE', job_id=0)\n",
      "pushed 17, Event(type='SWITCHING_DONE', job_id=1)\n",
      "popped 17, Event(type='SWITCHING_DONE', job_id=1)\n",
      "popped 18, Event(type='MEMORY_DONE', job_id=1)\n",
      "pushed 23, Event(type='COMPUTING_DONE', job_id=1)\n",
      "pushed 20, Event(type='SWITCHING_DONE', job_id=0)\n",
      "popped 20, Event(type='START_JOB', job_id=2)\n",
      "popped 20, Event(type='SWITCHING_DONE', job_id=0)\n",
      "pushed 22, Event(type='SWITCHING_DONE', job_id=2)\n",
      "popped 22, Event(type='SWITCHING_DONE', job_id=2)\n",
      "pushed 27, Event(type='COMPUTING_DONE', job_id=2)\n",
      "popped 27, Event(type='COMPUTING_DONE', job_id=2)\n",
      "pushed 38, Event(type='MEMORY_DONE', job_id=2)\n",
      "pushed 29, Event(type='SWITCHING_DONE', job_id=1)\n",
      "popped 28, Event(type='MEMORY_DONE', job_id=0)\n",
      "pushed 30, Event(type='SWITCHING_DONE', job_id=0)\n",
      "popped 30, Event(type='SWITCHING_DONE', job_id=0)\n",
      "pushed 35, Event(type='COMPUTING_DONE', job_id=0)\n",
      "popped 35, Event(type='COMPUTING_DONE', job_id=0)\n",
      "pushed 55, Event(type='DISK_DONE', job_id=0)\n",
      "pushed 37, Event(type='SWITCHING_DONE', job_id=2)\n",
      "popped 37, Event(type='SWITCHING_DONE', job_id=2)\n",
      "popped 38, Event(type='MEMORY_DONE', job_id=2)\n",
      "pushed 43, Event(type='COMPUTING_DONE', job_id=2)\n",
      "pushed 40, Event(type='SWITCHING_DONE', job_id=1)\n",
      "popped 40, Event(type='SWITCHING_DONE', job_id=1)\n",
      "pushed 75, Event(type='DISK_DONE', job_id=1)\n",
      "popped 55, Event(type='DISK_DONE', job_id=0)\n",
      "pushed 57, Event(type='SWITCHING_DONE', job_id=0)\n",
      "popped 57, Event(type='SWITCHING_DONE', job_id=0)\n",
      "pushed 62, Event(type='COMPUTING_DONE', job_id=0)\n",
      "popped 62, Event(type='COMPUTING_DONE', job_id=0)\n",
      "pushed 92, Event(type='NETWORK_DONE', job_id=0)\n",
      "pushed 64, Event(type='SWITCHING_DONE', job_id=2)\n",
      "popped 64, Event(type='SWITCHING_DONE', job_id=2)\n",
      "pushed 95, Event(type='DISK_DONE', job_id=2)\n",
      "popped 75, Event(type='DISK_DONE', job_id=1)\n",
      "pushed 77, Event(type='SWITCHING_DONE', job_id=1)\n",
      "popped 77, Event(type='SWITCHING_DONE', job_id=1)\n",
      "pushed 82, Event(type='COMPUTING_DONE', job_id=1)\n",
      "popped 82, Event(type='COMPUTING_DONE', job_id=1)\n",
      "pushed 122, Event(type='NETWORK_DONE', job_id=1)\n",
      "pushed 84, Event(type='SWITCHING_DONE', job_id=0)\n",
      "popped 84, Event(type='SWITCHING_DONE', job_id=0)\n",
      "popped 92, Event(type='NETWORK_DONE', job_id=0)\n",
      "pushed 94, Event(type='SWITCHING_DONE', job_id=2)\n",
      "popped 94, Event(type='SWITCHING_DONE', job_id=2)\n",
      "popped 95, Event(type='DISK_DONE', job_id=2)\n",
      "pushed 100, Event(type='COMPUTING_DONE', job_id=2)\n",
      "pushed 97, Event(type='SWITCHING_DONE', job_id=1)\n",
      "popped 97, Event(type='SWITCHING_DONE', job_id=1)\n",
      "popped 122, Event(type='NETWORK_DONE', job_id=1)\n",
      "pushed 124, Event(type='SWITCHING_DONE', job_id=2)\n",
      "popped 124, Event(type='SWITCHING_DONE', job_id=2)\n",
      "pushed 154, Event(type='NETWORK_DONE', job_id=2)\n",
      "popped 154, Event(type='NETWORK_DONE', job_id=2)\n"
     ]
    },
    {
     "data": {
      "text/plain": [
       "[(0, Event(type='START_JOB', job_id=0)),\n",
       " (1, Event(type='START_JOB', job_id=1)),\n",
       " (3, Event(type='SWITCHING_DONE', job_id=1)),\n",
       " (8, Event(type='COMPUTING_DONE', job_id=1)),\n",
       " (10, Event(type='SWITCHING_DONE', job_id=0)),\n",
       " (15, Event(type='COMPUTING_DONE', job_id=0)),\n",
       " (17, Event(type='SWITCHING_DONE', job_id=1)),\n",
       " (18, Event(type='MEMORY_DONE', job_id=1)),\n",
       " (20, Event(type='START_JOB', job_id=2)),\n",
       " (20, Event(type='SWITCHING_DONE', job_id=0)),\n",
       " (22, Event(type='SWITCHING_DONE', job_id=2)),\n",
       " (27, Event(type='COMPUTING_DONE', job_id=2)),\n",
       " (28, Event(type='MEMORY_DONE', job_id=0)),\n",
       " (30, Event(type='SWITCHING_DONE', job_id=0)),\n",
       " (35, Event(type='COMPUTING_DONE', job_id=0)),\n",
       " (37, Event(type='SWITCHING_DONE', job_id=2)),\n",
       " (38, Event(type='MEMORY_DONE', job_id=2)),\n",
       " (40, Event(type='SWITCHING_DONE', job_id=1)),\n",
       " (55, Event(type='DISK_DONE', job_id=0)),\n",
       " (57, Event(type='SWITCHING_DONE', job_id=0)),\n",
       " (62, Event(type='COMPUTING_DONE', job_id=0)),\n",
       " (64, Event(type='SWITCHING_DONE', job_id=2)),\n",
       " (75, Event(type='DISK_DONE', job_id=1)),\n",
       " (77, Event(type='SWITCHING_DONE', job_id=1)),\n",
       " (82, Event(type='COMPUTING_DONE', job_id=1)),\n",
       " (84, Event(type='SWITCHING_DONE', job_id=0)),\n",
       " (92, Event(type='NETWORK_DONE', job_id=0)),\n",
       " (94, Event(type='SWITCHING_DONE', job_id=2)),\n",
       " (95, Event(type='DISK_DONE', job_id=2)),\n",
       " (97, Event(type='SWITCHING_DONE', job_id=1)),\n",
       " (122, Event(type='NETWORK_DONE', job_id=1)),\n",
       " (124, Event(type='SWITCHING_DONE', job_id=2)),\n",
       " (154, Event(type='NETWORK_DONE', job_id=2))]"
      ]
     },
     "execution_count": 6,
     "metadata": {},
     "output_type": "execute_result"
    }
   ],
   "source": [
    "sim.run_until_scheduling_needed()\n",
    "while not sim.is_finished():\n",
    "    sim.schedule_job(random_scheduler.schedule(sim))\n",
    "    sim.run_until_scheduling_needed()\n",
    "\n",
    "sim.history"
   ]
  },
  {
   "cell_type": "code",
   "execution_count": null,
   "metadata": {},
   "outputs": [],
   "source": []
  }
 ],
 "metadata": {
  "kernelspec": {
   "display_name": "Python 3",
   "language": "python",
   "name": "python3"
  },
  "language_info": {
   "codemirror_mode": {
    "name": "ipython",
    "version": 3
   },
   "file_extension": ".py",
   "mimetype": "text/x-python",
   "name": "python",
   "nbconvert_exporter": "python",
   "pygments_lexer": "ipython3",
   "version": "3.8.3"
  }
 },
 "nbformat": 4,
 "nbformat_minor": 4
}
