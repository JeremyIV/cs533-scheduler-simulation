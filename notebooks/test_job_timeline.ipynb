{
 "cells": [
  {
   "cell_type": "code",
   "execution_count": 1,
   "metadata": {},
   "outputs": [
    {
     "name": "stdout",
     "output_type": "stream",
     "text": [
      "/home/jeremyiv/Documents/classes/CS533/final_project\n"
     ]
    }
   ],
   "source": [
    "%cd /home/jeremyiv/Documents/classes/CS533/final_project\n"
   ]
  },
  {
   "cell_type": "code",
   "execution_count": 2,
   "metadata": {},
   "outputs": [],
   "source": [
    "from job_timeline import *"
   ]
  },
  {
   "cell_type": "code",
   "execution_count": 3,
   "metadata": {},
   "outputs": [
    {
     "name": "stdout",
     "output_type": "stream",
     "text": [
      "task cdf: [0.2, 0.4, 0.6000000000000001, 0.9333333333333333, 1.0]\n"
     ]
    }
   ],
   "source": [
    "task_dist = task_distribution_factory()"
   ]
  },
  {
   "cell_type": "code",
   "execution_count": 4,
   "metadata": {},
   "outputs": [
    {
     "name": "stdout",
     "output_type": "stream",
     "text": [
      "task cdf: [0.19047619047619047, 0.6190476190476191, 0.7619047619047619, 0.8095238095238095, 1.0]\n",
      "task cdf: [0.15384615384615385, 0.4230769230769231, 0.7692307692307692, 0.923076923076923, 1.0]\n",
      "task cdf: [0.21428571428571427, 0.25, 0.5714285714285714, 0.7142857142857142, 0.9999999999999999]\n",
      "task cdf: [0.14814814814814814, 0.18518518518518517, 0.37037037037037035, 0.6666666666666666, 1.0]\n",
      "task cdf: [0.3888888888888889, 0.5, 0.5555555555555556, 0.8333333333333334, 1.0]\n",
      "task cdf: [0.045454545454545456, 0.4545454545454546, 0.6363636363636365, 0.7727272727272728, 1.0]\n",
      "task cdf: [0.225, 0.4, 0.625, 0.825, 1.0]\n",
      "task cdf: [0.2222222222222222, 0.4722222222222222, 0.5277777777777778, 0.75, 1.0]\n",
      "task cdf: [0.15384615384615385, 0.23076923076923078, 0.6923076923076923, 0.8461538461538461, 1.0]\n",
      "task cdf: [0.16666666666666666, 0.43333333333333335, 0.5666666666666667, 0.8, 1.0]\n"
     ]
    },
    {
     "data": {
      "text/plain": [
       "[(0,\n",
       "  id=None, priority=3, blocked=False, remaining_tasks=[Task(type='MEMORY', time_remaining=6), Task(type='MEMORY', time_remaining=1), Task(type='MEMORY', time_remaining=55), Task(type='COMPUTE', time_remaining=1), Task(type='DISK', time_remaining=55), Task(type='MEMORY', time_remaining=106), Task(type='NETWORK', time_remaining=11), Task(type='DISK', time_remaining=23), Task(type='DISK', time_remaining=34)]),\n",
       " (9505,\n",
       "  id=None, priority=1, blocked=False, remaining_tasks=[Task(type='DISK', time_remaining=40), Task(type='DISK', time_remaining=62), Task(type='NETWORK', time_remaining=61), Task(type='COMPUTE', time_remaining=1), Task(type='DISK', time_remaining=29), Task(type='DISK', time_remaining=84)]),\n",
       " (2672,\n",
       "  id=None, priority=3, blocked=False, remaining_tasks=[Task(type='NETWORK', time_remaining=20), Task(type='NETWORK', time_remaining=68), Task(type='NETWORK', time_remaining=31), Task(type='COMPUTE', time_remaining=1)]),\n",
       " (8464,\n",
       "  id=None, priority=4, blocked=False, remaining_tasks=[Task(type='MEMORY', time_remaining=1)]),\n",
       " (143,\n",
       "  id=None, priority=3, blocked=False, remaining_tasks=[Task(type='DISK', time_remaining=43), Task(type='NETWORK', time_remaining=30), Task(type='DISK', time_remaining=43)]),\n",
       " (1796,\n",
       "  id=None, priority=1, blocked=False, remaining_tasks=[Task(type='COMPUTE', time_remaining=1), Task(type='NETWORK', time_remaining=15), Task(type='NETWORK', time_remaining=6)]),\n",
       " (2674,\n",
       "  id=None, priority=3, blocked=False, remaining_tasks=[Task(type='MEMORY', time_remaining=24), Task(type='COMPUTE', time_remaining=1), Task(type='COMPUTE', time_remaining=1), Task(type='MEMORY', time_remaining=1), Task(type='DISK', time_remaining=38), Task(type='NETWORK', time_remaining=89), Task(type='COMPUTE', time_remaining=1)])]"
      ]
     },
     "execution_count": 4,
     "metadata": {},
     "output_type": "execute_result"
    }
   ],
   "source": [
    "make_job_timeline(10, 10000, task_distribution_factory)"
   ]
  },
  {
   "cell_type": "code",
   "execution_count": 5,
   "metadata": {},
   "outputs": [
    {
     "data": {
      "text/plain": [
       "Task(type='NETWORK', time_remaining=28)"
      ]
     },
     "execution_count": 5,
     "metadata": {},
     "output_type": "execute_result"
    }
   ],
   "source": [
    "task_dist()"
   ]
  },
  {
   "cell_type": "code",
   "execution_count": null,
   "metadata": {},
   "outputs": [],
   "source": []
  }
 ],
 "metadata": {
  "kernelspec": {
   "display_name": "Python 3",
   "language": "python",
   "name": "python3"
  },
  "language_info": {
   "codemirror_mode": {
    "name": "ipython",
    "version": 3
   },
   "file_extension": ".py",
   "mimetype": "text/x-python",
   "name": "python",
   "nbconvert_exporter": "python",
   "pygments_lexer": "ipython3",
   "version": "3.8.3"
  }
 },
 "nbformat": 4,
 "nbformat_minor": 4
}
